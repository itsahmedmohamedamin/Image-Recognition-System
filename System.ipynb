{
  "cells": [
    {
      "cell_type": "code",
      "execution_count": null,
      "metadata": {
        "id": "-cKyf_3Zp1Wy"
      },
      "outputs": [],
      "source": [
        "!pip install opencv-python\n",
        "!pip install dlib\n",
        "!pip install cmake\n",
        "!pip install face_recognition"
      ]
    },
    {
      "cell_type": "code",
      "execution_count": 2,
      "metadata": {
        "id": "pGjCZLP_sIL6"
      },
      "outputs": [],
      "source": [
        "# Imoort libraries"
      ]
    },
    {
      "cell_type": "code",
      "source": [
        "from google.colab import drive\n",
        "drive.mount('/content/drive')"
      ],
      "metadata": {
        "colab": {
          "base_uri": "https://localhost:8080/"
        },
        "id": "dEKjSMHoMtwn",
        "outputId": "d6c45ed9-9c07-4322-c007-82971d929168"
      },
      "execution_count": 12,
      "outputs": [
        {
          "output_type": "stream",
          "name": "stdout",
          "text": [
            "Mounted at /content/drive\n"
          ]
        }
      ]
    },
    {
      "cell_type": "code",
      "execution_count": 3,
      "metadata": {
        "id": "BW9W28rVsTVI"
      },
      "outputs": [],
      "source": [
        "import numpy as np\n",
        "import pandas as pd\n",
        "import math\n",
        "import random\n",
        "import time\n",
        "import face_recognition\n",
        "import cv2\n",
        "import os"
      ]
    },
    {
      "cell_type": "code",
      "execution_count": 4,
      "metadata": {
        "id": "U_XY0nydx_bb"
      },
      "outputs": [],
      "source": [
        "import matplotlib.pyplot as plt\n",
        "from pathlib import Path\n",
        "import pickle\n",
        "from google.colab.patches import cv2_imshow"
      ]
    },
    {
      "cell_type": "code",
      "execution_count": 5,
      "metadata": {
        "id": "HHio2u4JshpH"
      },
      "outputs": [],
      "source": [
        "# Function to detect faces in images and printing the frame on the face"
      ]
    },
    {
      "cell_type": "code",
      "execution_count": 46,
      "metadata": {
        "id": "RFFKLe5XxV5L"
      },
      "outputs": [],
      "source": [
        "def detect_faces(path):\n",
        "    # Check if path is a directory\n",
        "    if os.path.isdir(path):\n",
        "        # Process each file in the directory\n",
        "        for image_name in os.listdir(path):\n",
        "            image_path = os.path.join(path, image_name)\n",
        "            process_image(image_path)\n",
        "    elif os.path.isfile(path):\n",
        "        # Process a single file\n",
        "        process_image(path)\n",
        "    else:\n",
        "        print(\"The provided path is neither a directory nor a file.\")\n",
        "\n",
        "def process_image(image_path):\n",
        "    # Ensure the path points to a file\n",
        "    if os.path.isfile(image_path):\n",
        "        image = face_recognition.load_image_file(image_path)\n",
        "        face_locations = face_recognition.face_locations(image)\n",
        "\n",
        "        image_cv = cv2.cvtColor(image, cv2.COLOR_RGB2BGR)\n",
        "\n",
        "        for top, right, bottom, left in face_locations:\n",
        "            cv2.rectangle(image_cv, (left, top), (right, bottom), (0, 255, 0), 13)\n",
        "\n",
        "        image_rgb = cv2.cvtColor(image_cv, cv2.COLOR_BGR2RGB)\n",
        "        plt.imshow(image_rgb)\n",
        "        plt.axis('off')\n",
        "        # Extract image name for the title\n",
        "        image_name = os.path.basename(image_path)\n",
        "        plt.title(f\"Faces detected in {image_name}\")\n",
        "        plt.show()\n",
        "    else:\n",
        "        print(f\"No valid file found at {image_path}\")"
      ]
    },
    {
      "cell_type": "code",
      "execution_count": null,
      "metadata": {
        "id": "B3I0o7fhyFIW"
      },
      "outputs": [],
      "source": [
        "detect_faces('/content/drive/MyDrive/Path/To/Your/Dataset/Folders')"
      ]
    },
    {
      "cell_type": "code",
      "execution_count": null,
      "metadata": {
        "id": "l7HBDFLWybH9"
      },
      "outputs": [],
      "source": [
        "# Extract Features and Save with Person's Name"
      ]
    },
    {
      "cell_type": "code",
      "source": [
        "def save_encodings(encodings_file, encodings):\n",
        "    with open(encodings_file, 'wb') as file:\n",
        "        pickle.dump(encodings, file)"
      ],
      "metadata": {
        "id": "p9H6BVs0BNAZ"
      },
      "execution_count": 7,
      "outputs": []
    },
    {
      "cell_type": "code",
      "source": [
        "def load_encodings(encodings_file):\n",
        "    try:\n",
        "        if Path(encodings_file).exists():\n",
        "            with open(encodings_file, 'rb') as file:\n",
        "                return pickle.load(file)\n",
        "    except EOFError:\n",
        "        pass\n",
        "    return {}"
      ],
      "metadata": {
        "id": "pqW7wvpeBQYU"
      },
      "execution_count": 8,
      "outputs": []
    },
    {
      "cell_type": "code",
      "execution_count": 18,
      "metadata": {
        "id": "Y9JbsXfszRZg"
      },
      "outputs": [],
      "source": [
        "def add_person(person_folder_path, encodings_file='face_encodings.pkl'):\n",
        "    person_name = os.path.basename(person_folder_path)\n",
        "    known_faces = load_encodings(encodings_file)\n",
        "\n",
        "    existing_encodings = known_faces.get(person_name, [])\n",
        "    initial_encoding_count = len(existing_encodings)\n",
        "    new_encodings_count = 0\n",
        "\n",
        "    for image_name in os.listdir(person_folder_path):\n",
        "        image_path = os.path.join(person_folder_path, image_name)\n",
        "        image = face_recognition.load_image_file(image_path)\n",
        "        encodings = face_recognition.face_encodings(image)\n",
        "        if encodings:\n",
        "            if all(not np.array_equal(encodings[0], existing_encoding) for existing_encoding in existing_encodings):\n",
        "                existing_encodings.append(encodings[0])\n",
        "                new_encodings_count += 1\n",
        "\n",
        "    if new_encodings_count > 0:\n",
        "        known_faces[person_name] = existing_encodings\n",
        "        save_encodings(encodings_file, known_faces)\n",
        "        print(f\"Updated {person_name} in the dataset with {new_encodings_count} new encodings.\")\n",
        "    elif initial_encoding_count > 0:\n",
        "        print(f\"No new encodings found for {person_name}.\")\n",
        "    else:\n",
        "        print(f\"No valid face encodings found for {person_name}. Not added to dataset.\")"
      ]
    },
    {
      "cell_type": "code",
      "execution_count": null,
      "metadata": {
        "id": "U99jA5-S0k8w"
      },
      "outputs": [],
      "source": [
        "add_person('/content/drive/MyDrive/Path/To/Your/Dataset/Folders')"
      ]
    },
    {
      "cell_type": "code",
      "source": [
        "# Function To Recognize Faces"
      ],
      "metadata": {
        "id": "5j0_YkvuI90N"
      },
      "execution_count": null,
      "outputs": []
    },
    {
      "cell_type": "code",
      "execution_count": 27,
      "metadata": {
        "id": "LRwGj1IF2P0n"
      },
      "outputs": [],
      "source": [
        "def recognize_person(image_path, encodings_file='face_encodings.pkl'):\n",
        "    unknown_image = face_recognition.load_image_file(image_path)\n",
        "    face_locations = face_recognition.face_locations(unknown_image)\n",
        "    unknown_encodings = face_recognition.face_encodings(unknown_image, face_locations)\n",
        "\n",
        "    image_cv = cv2.cvtColor(unknown_image, cv2.COLOR_RGB2BGR)\n",
        "\n",
        "    known_faces = {}\n",
        "    with open(encodings_file, 'rb') as file:\n",
        "        known_faces = pickle.load(file)\n",
        "\n",
        "    recognized_names = []\n",
        "    for (top, right, bottom, left), unknown_face_encoding in zip(face_locations, unknown_encodings):\n",
        "        name = \"Unknown\"\n",
        "\n",
        "        for known_name, known_encodings in known_faces.items():\n",
        "            matches = face_recognition.compare_faces(known_encodings, unknown_face_encoding)\n",
        "            if True in matches:\n",
        "                name = known_name\n",
        "                recognized_names.append(name)\n",
        "                break\n",
        "\n",
        "        cv2.rectangle(image_cv, (left, top), (right, bottom), (0, 255, 0), 2)\n",
        "\n",
        "        label_background_color = (50, 205, 50)\n",
        "        text_color = (0, 0, 0)\n",
        "\n",
        "        cv2.rectangle(image_cv, (left, bottom - 5), (right, bottom + 35), label_background_color, cv2.FILLED)\n",
        "        font = cv2.FONT_HERSHEY_SIMPLEX\n",
        "        cv2.putText(image_cv, name, (left + 6, bottom + 30), font, 1.6, text_color, 2)\n",
        "    print(\"Recognized persons:\", \", \".join(recognized_names))\n",
        "\n",
        "    scale_percent = 30\n",
        "    width = int(image_cv.shape[1] * scale_percent / 100)\n",
        "    height = int(image_cv.shape[0] * scale_percent / 100)\n",
        "    dim = (width, height)\n",
        "    resized = cv2.resize(image_cv, dim, interpolation=cv2.INTER_AREA)\n",
        "\n",
        "    cv2_imshow(resized)\n",
        "    cv2.waitKey(0)\n",
        "    cv2.destroyAllWindows()"
      ]
    },
    {
      "cell_type": "code",
      "execution_count": null,
      "metadata": {
        "id": "i_8HAEwM3kC0"
      },
      "outputs": [],
      "source": [
        "recognize_person('/content/drive/MyDrive/Path/To/Your/Dataset/Folders/New_Images')"
      ]
    },
    {
      "cell_type": "code",
      "source": [
        "# Function to create dataframe for the saved encodings"
      ],
      "metadata": {
        "id": "cHN3X08kJB0n"
      },
      "execution_count": null,
      "outputs": []
    },
    {
      "cell_type": "code",
      "execution_count": 11,
      "metadata": {
        "id": "ZYva_UVj3XVo"
      },
      "outputs": [],
      "source": [
        "def create_dataset_dataframe(encodings_file='face_encodings.pkl'):\n",
        "    dataset = []\n",
        "    id_counter = 0\n",
        "\n",
        "    with open(encodings_file, 'rb') as file:\n",
        "        while True:\n",
        "            try:\n",
        "                known_faces = pickle.load(file)\n",
        "                for name, encodings in known_faces.items():\n",
        "                    dataset.append({\n",
        "                        'Name': name,\n",
        "                        'ID': id_counter,\n",
        "                        'Number of Images': len(encodings)\n",
        "                    })\n",
        "                    id_counter += 1\n",
        "            except EOFError:\n",
        "                break\n",
        "\n",
        "    df = pd.DataFrame(dataset)\n",
        "    print(df)"
      ]
    },
    {
      "cell_type": "code",
      "execution_count": null,
      "metadata": {
        "id": "QWuCJSin3Z_e"
      },
      "outputs": [],
      "source": [
        "create_dataset_dataframe()"
      ]
    },
    {
      "cell_type": "code",
      "execution_count": 49,
      "metadata": {
        "id": "b8WgluB-3byb"
      },
      "outputs": [],
      "source": [
        "# Summary of the functions"
      ]
    },
    {
      "cell_type": "code",
      "source": [
        "detect_faces() # used to only detect faces (it accept parameters as image path or folder path containing images in it)\n",
        "add_person() # Used to add a new person to the dataset to be recognized later\n",
        "recognize_person() # Used to recognize persons that already been added to the dataset\n",
        "create_dataset_dataframe() # Used to return the dataset containing how many images for each person, person's ID and Persons Name"
      ],
      "metadata": {
        "id": "cgIuy_vRVtgy"
      },
      "execution_count": null,
      "outputs": []
    }
  ],
  "metadata": {
    "colab": {
      "provenance": [],
      "gpuType": "T4"
    },
    "kernelspec": {
      "display_name": "Python 3",
      "name": "python3"
    },
    "language_info": {
      "name": "python"
    },
    "accelerator": "GPU"
  },
  "nbformat": 4,
  "nbformat_minor": 0
}